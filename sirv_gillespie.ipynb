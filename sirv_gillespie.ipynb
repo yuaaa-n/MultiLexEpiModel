{
 "cells": [
  {
   "cell_type": "code",
   "execution_count": null,
   "id": "db79aae0",
   "metadata": {},
   "outputs": [],
   "source": [
    "\n",
    "    "
   ]
  },
  {
   "cell_type": "code",
   "execution_count": 1,
   "id": "01bd4fc8",
   "metadata": {},
   "outputs": [],
   "source": [
    "def SIRV_network_Gillespie(A, initial_state, param):\n",
    "    N = A.shape[0]\n",
    "    degree = np.sum(A) / A.shape[0]\n",
    "    beta, gamma, epsilon = param['beta'] / degree, param['gamma'], param['epsilon']\n",
    "    state = initial_state.copy()\n",
    "    \n",
    "    S, I, R, V = [], [], [], []\n",
    "    S.append(np.sum(state == 0))\n",
    "    I.append(np.sum(state == 2))\n",
    "    R.append(np.sum(state == 3))\n",
    "    V.append(np.sum(state == 1))\n",
    "\n",
    "    prop = beta * A.dot(state == 2) * (state == 0) + \\\n",
    "           (1 - epsilon) * beta * A.dot(state == 2) * (state == 1) + \\\n",
    "           gamma * (state == 2)\n",
    "    \n",
    "    while np.sum(state == 2) > 0:\n",
    "        #print(\"Total Propensity:\", prop.sum())\n",
    "\n",
    "        r_1, r_2 = np.random.rand(2)\n",
    "        cumsum = prop.cumsum()\n",
    "        scale = cumsum[-1]\n",
    "        tau = -np.log(1 - r_1) / scale\n",
    "        i = np.searchsorted(cumsum, r_2 * scale)\n",
    "\n",
    "        if state[i] == 0:\n",
    "            state[i] = 2\n",
    "        elif state[i] == 1:\n",
    "            state[i] = 2\n",
    "        elif state[i] == 2:\n",
    "            state[i] = 3\n",
    "\n",
    "        S.append(np.sum(state == 0))\n",
    "        I.append(np.sum(state == 2))\n",
    "        R.append(np.sum(state == 3))\n",
    "        V.append(np.sum(state == 1))\n",
    "\n",
    "        prop = beta * A.dot(state == 2) * (state == 0) + \\\n",
    "               (1 - epsilon) * beta * A.dot(state == 2) * (state == 1) + \\\n",
    "               gamma * (state == 2)\n",
    "    \n",
    "    return state, S, I, R, V"
   ]
  },
  {
   "cell_type": "code",
   "execution_count": null,
   "id": "bd436b1a",
   "metadata": {},
   "outputs": [],
   "source": []
  }
 ],
 "metadata": {
  "kernelspec": {
   "display_name": "Python 3 (ipykernel)",
   "language": "python",
   "name": "python3"
  },
  "language_info": {
   "codemirror_mode": {
    "name": "ipython",
    "version": 3
   },
   "file_extension": ".py",
   "mimetype": "text/x-python",
   "name": "python",
   "nbconvert_exporter": "python",
   "pygments_lexer": "ipython3",
   "version": "3.11.5"
  }
 },
 "nbformat": 4,
 "nbformat_minor": 5
}
